{
  "nbformat": 4,
  "nbformat_minor": 0,
  "metadata": {
    "colab": {
      "provenance": []
    },
    "kernelspec": {
      "name": "python3",
      "display_name": "Python 3"
    },
    "language_info": {
      "name": "python"
    }
  },
  "cells": [
    {
      "cell_type": "markdown",
      "source": [
        "# **Working with Images**\n",
        "\n",
        "1.   Getting Image Height and Width\n",
        "1.   Cropping image from Left to Right, Top to Bottom\n",
        "2.   Priting the dimensions' list in a text file\n",
        "3.   Saving the text file\n",
        "\n"
      ],
      "metadata": {
        "id": "QpQRCm5t07nt"
      }
    },
    {
      "cell_type": "code",
      "execution_count": 4,
      "metadata": {
        "colab": {
          "base_uri": "https://localhost:8080/"
        },
        "id": "e3ruiOP5zgyN",
        "outputId": "ee6493b7-d040-4f2e-e9d9-2c02b6aeb3dd"
      },
      "outputs": [
        {
          "output_type": "stream",
          "name": "stdout",
          "text": [
            "1361 1883\n",
            "48\n"
          ]
        }
      ],
      "source": [
        "import asyncio\n",
        "from asyncio import tasks\n",
        "import concurrent.futures\n",
        "import math\n",
        "import os\n",
        "os.environ[\"OPENCV_IO_MAX_IMAGE_PIXELS\"] = str(pow(2,40))\n",
        "import cv2\n",
        "from PIL import Image\n",
        "from PIL import Image \n",
        "from multiprocessing import Process\n",
        "Image.MAX_IMAGE_PIXELS = 10000000000000 \n",
        "\n",
        "#file = \"SouthBayApal.tif\"\n",
        "file = \"coral2.jpg\"\n",
        "image = cv2.imread(file)\n",
        "\n",
        "file_name = file.split('.')[0]\n",
        "file_extension = file.split('.')[1]\n",
        "\n",
        "# get width and height\n",
        "height_of_img, width_of_img = image.shape[:2]\n",
        "print(height_of_img, width_of_img)\n",
        "crop_height = 256 \n",
        "crop_width = 256\n",
        "infile = open(\"{z}.txt\".format(z=file_name), 'w')\n",
        "\n",
        "dimensions_list = []\n",
        "def crop_image(left, top, right, bottom):\n",
        "    imagePil = Image.open(file)\n",
        "    img_a = imagePil.crop((left,top, right, bottom))\n",
        "    img_piece_filename = file_name + \"-\"+ str(top)+  \"-\"+ str(left) + '.' + file_extension\n",
        "    img_a.save(img_piece_filename)\n",
        "    img_a.close()\n",
        "    imagePil.close()\n",
        "for row in range(0, math.ceil(height_of_img / crop_height)  ):\n",
        "    for col in range(0, math.ceil(width_of_img / crop_width) ):\n",
        "        vertex1 = (min(row* 256, height_of_img) , min( col *256, width_of_img))\n",
        "        vertex2 = (min(row* 256, height_of_img ), min( (col + 1 ) *256, width_of_img))\n",
        "        vertex3 = (min((row+ 1) * 256, height_of_img) , min(col *256, width_of_img))\n",
        "        vertex4 = (min((row+ 1) * 256, height_of_img) , min( (col+1) *256, width_of_img))\n",
        "        top = vertex1[0]\n",
        "        left = vertex1[1]\n",
        "        right = vertex4[1]\n",
        "        bottom = vertex4[0]\n",
        "        infile.write( 'ffmpeg -i {z}.{a} -qscale:v 1 -vf \"crop=256:256:{x}:{y}\" {z}-{x}-{y}.{a} \\n'.format(x=top, y=left, z=file_name, a=file_extension))\n",
        "\n",
        "        dimensions_list.append((left, top, right, bottom))\n",
        "print(len(dimensions_list))\n",
        "\n"
      ]
    },
    {
      "cell_type": "code",
      "source": [],
      "metadata": {
        "id": "gMLU-aJ4z6o6"
      },
      "execution_count": null,
      "outputs": []
    }
  ]
}